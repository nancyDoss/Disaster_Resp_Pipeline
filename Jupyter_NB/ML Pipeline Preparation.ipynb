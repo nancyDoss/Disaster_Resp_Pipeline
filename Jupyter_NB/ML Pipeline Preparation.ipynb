{
 "cells": [
  {
   "cell_type": "markdown",
   "metadata": {},
   "source": [
    "# ML Pipeline Preparation\n",
    "Follow the instructions below to help you create your ML pipeline.\n",
    "### 1. Import libraries and load data from database.\n",
    "- Import Python libraries\n",
    "- Load dataset from database with [`read_sql_table`](https://pandas.pydata.org/pandas-docs/stable/generated/pandas.read_sql_table.html)\n",
    "- Define feature and target variables X and Y"
   ]
  },
  {
   "cell_type": "code",
   "execution_count": 2,
   "metadata": {},
   "outputs": [
    {
     "name": "stdout",
     "output_type": "stream",
     "text": [
      "[nltk_data] Downloading package punkt to /root/nltk_data...\n",
      "[nltk_data]   Package punkt is already up-to-date!\n",
      "[nltk_data] Downloading package wordnet to /root/nltk_data...\n",
      "[nltk_data]   Package wordnet is already up-to-date!\n",
      "[nltk_data] Downloading package averaged_perceptron_tagger to\n",
      "[nltk_data]     /root/nltk_data...\n",
      "[nltk_data]   Package averaged_perceptron_tagger is already up-to-\n",
      "[nltk_data]       date!\n"
     ]
    },
    {
     "data": {
      "text/plain": [
       "True"
      ]
     },
     "execution_count": 2,
     "metadata": {},
     "output_type": "execute_result"
    }
   ],
   "source": [
    "# import libraries\n",
    "import pandas as pd\n",
    "import numpy as np\n",
    "import sqlite3\n",
    "import re\n",
    "\n",
    "from sklearn.datasets import make_multilabel_classification\n",
    "from sklearn.neighbors import KNeighborsClassifier\n",
    "from sklearn.svm import SVC\n",
    "from sklearn.multioutput import MultiOutputClassifier\n",
    "\n",
    "from nltk.tokenize import word_tokenize\n",
    "from nltk.stem import WordNetLemmatizer\n",
    "\n",
    "from sklearn.metrics import confusion_matrix, classification_report\n",
    "from sklearn.model_selection import GridSearchCV\n",
    "from sklearn.model_selection import train_test_split\n",
    "from sklearn.pipeline import Pipeline, FeatureUnion\n",
    "from sklearn.base import BaseEstimator, TransformerMixin\n",
    "from sklearn.feature_extraction.text import CountVectorizer, TfidfTransformer\n",
    "from sklearn.base import BaseEstimator, TransformerMixin\n",
    "from sklearn.ensemble import RandomForestClassifier\n",
    "\n",
    "from sqlalchemy import create_engine\n",
    "\n",
    "import nltk\n",
    "nltk.download(['punkt', 'wordnet', 'averaged_perceptron_tagger'])\n"
   ]
  },
  {
   "cell_type": "code",
   "execution_count": 5,
   "metadata": {},
   "outputs": [],
   "source": [
    "def load_data():\n",
    "    # load data from database\n",
    "    engine = create_engine('sqlite:///DisasterDB_ETL.db')\n",
    "    conn = engine.connect()\n",
    "    df = pd.read_sql_table(\"DisasterETL_DB\", conn)\n",
    "    X = df['message'] #only the message text, and not others.\n",
    "    Y= df.drop(['id','genre','message','original'],axis=1)\n",
    "    category_names = list(Y.columns) #Y should only contain category colunm\n",
    "    X_head = X.head(5)\n",
    "    Y_head = Y.head(5)\n",
    "    \n",
    "    return X, Y, category_names \n"
   ]
  },
  {
   "cell_type": "code",
   "execution_count": 6,
   "metadata": {},
   "outputs": [],
   "source": [
    "X, y, category_names = load_data()\n"
   ]
  },
  {
   "cell_type": "markdown",
   "metadata": {},
   "source": [
    "### 2. Write a tokenization function to process your text data"
   ]
  },
  {
   "cell_type": "code",
   "execution_count": 7,
   "metadata": {},
   "outputs": [],
   "source": [
    "def tokenize(text):\n",
    "    text = re.sub(r\"[^a-zA-Z0-9]\", \" \", text.lower())\n",
    "\n",
    "    tokens = word_tokenize(text)\n",
    "    lemmatizer = WordNetLemmatizer()\n",
    "\n",
    "    clean_tokens = []\n",
    "    for tok in tokens:\n",
    "        clean_tok = lemmatizer.lemmatize(tok).lower().strip()\n",
    "        clean_tokens.append(clean_tok)\n",
    "\n",
    "    return clean_tokens\n",
    "\n"
   ]
  },
  {
   "cell_type": "markdown",
   "metadata": {},
   "source": [
    "### 3. Build a machine learning pipeline\n",
    "This machine pipeline should take in the `message` column as input and output classification results on the other 36 categories in the dataset. You may find the [MultiOutputClassifier](http://scikit-learn.org/stable/modules/generated/sklearn.multioutput.MultiOutputClassifier.html) helpful for predicting multiple target variables."
   ]
  },
  {
   "cell_type": "code",
   "execution_count": 60,
   "metadata": {},
   "outputs": [],
   "source": [
    "class StartingVerbExtractor(BaseEstimator, TransformerMixin):\n",
    "\n",
    "    def starting_verb(self, text):\n",
    "        sentence_list = nltk.sent_tokenize(text)\n",
    "        for sentence in sentence_list:\n",
    "            pos_tags = nltk.pos_tag(tokenize(sentence))\n",
    "            first_word, first_tag = pos_tags[0]\n",
    "            if first_tag in ['VB', 'VBP'] or first_word == 'RT':\n",
    "                return True\n",
    "        return False\n",
    "\n",
    "    def fit(self, x, y=None):\n",
    "        return self\n",
    "\n",
    "    def transform(self, X):\n",
    "        X_tagged = pd.Series(X).apply(self.starting_verb)\n",
    "        return pd.DataFrame(X_tagged)\n",
    "\n"
   ]
  },
  {
   "cell_type": "code",
   "execution_count": 8,
   "metadata": {},
   "outputs": [],
   "source": [
    "def build_model():\n",
    "\n",
    "    pipeline = Pipeline([\n",
    "        ('vect', CountVectorizer(tokenizer=tokenize)),\n",
    "        ('tfidf', TfidfTransformer()),\n",
    "        ('clf',MultiOutputClassifier( RandomForestClassifier()))\n",
    "    ])\n",
    "\n",
    "    return pipeline\n",
    "\n"
   ]
  },
  {
   "cell_type": "markdown",
   "metadata": {},
   "source": [
    "### 4. Train pipeline\n",
    "- Split data into train and test sets\n",
    "- Train pipeline"
   ]
  },
  {
   "cell_type": "code",
   "execution_count": 9,
   "metadata": {},
   "outputs": [],
   "source": [
    "def display_results(y_test, y_pred):\n",
    "    labels = np.unique(y_pred)\n",
    "    #confusion_mat = confusion_matrix(y_test, y_pred, labels=labels)\n",
    "    accuracy = (y_pred == y_test).mean()\n",
    "\n",
    "    print(\"Labels:\", labels)\n",
    "    #print(\"Confusion Matrix:\\n\", confusion_mat)\n",
    "    print(\"Accuracy:\", accuracy)\n"
   ]
  },
  {
   "cell_type": "code",
   "execution_count": 10,
   "metadata": {
    "scrolled": false
   },
   "outputs": [],
   "source": [
    "X, y, category_names  = load_data()\n",
    "X_train, X_test, y_train, y_test = train_test_split(X, y)\n",
    "\n",
    "model = build_model()\n",
    "model.fit(X_train, y_train)\n",
    "y_pred = model.predict(X_test)\n",
    "\n",
    "#display_results(y_test, y_pred)\n",
    "\n"
   ]
  },
  {
   "cell_type": "markdown",
   "metadata": {},
   "source": [
    "### 5. Test your model\n",
    "Report the f1 score, precision and recall for each output category of the dataset. You can do this by iterating through the columns and calling sklearn's `classification_report` on each."
   ]
  },
  {
   "cell_type": "code",
   "execution_count": 11,
   "metadata": {},
   "outputs": [
    {
     "ename": "ValueError",
     "evalue": "Unknown label type: (       related  request  offer  aid_related  medical_help  medical_products  \\\n15908        1        0      0            0             0                 0   \n19495        1        0      0            0             0                 0   \n24191        1        0      0            1             0                 0   \n15961        1        0      0            0             0                 0   \n6826         0        0      0            0             0                 0   \n8512         0        0      0            0             0                 0   \n20029        1        0      0            1             1                 0   \n3987         0        0      0            0             0                 0   \n22682        1        0      0            0             0                 0   \n20914        1        0      0            1             0                 0   \n18174        1        0      0            1             0                 0   \n8641         0        0      0            0             0                 0   \n25084        0        0      0            0             0                 0   \n24725        1        0      0            0             0                 0   \n12737        1        0      0            0             0                 0   \n8494         0        0      0            0             0                 0   \n7178         0        0      0            0             0                 0   \n16531        1        0      0            0             0                 0   \n21177        1        0      0            1             1                 0   \n2988         1        1      0            1             0                 0   \n22708        0        0      0            0             0                 0   \n7475         0        0      0            0             0                 0   \n23387        1        0      0            1             0                 0   \n7662         1        0      0            0             0                 0   \n5153         1        0      0            1             0                 0   \n18317        0        0      0            0             0                 0   \n7903         0        0      0            0             0                 0   \n9787         1        0      0            0             0                 0   \n24759        1        0      0            1             0                 0   \n20024        1        0      0            1             0                 0   \n...        ...      ...    ...          ...           ...               ...   \n14069        1        0      0            0             0                 0   \n17713        1        0      0            1             0                 0   \n25032        1        0      0            1             1                 0   \n23506        1        0      0            0             0                 0   \n21969        1        1      0            0             0                 0   \n21551        1        0      0            0             0                 0   \n12141        1        1      0            1             1                 0   \n5271         1        0      0            1             0                 0   \n18608        1        0      0            0             0                 0   \n14780        1        0      0            0             0                 0   \n7638         1        1      0            1             0                 0   \n12650        1        0      0            0             0                 0   \n4454         1        1      0            1             0                 0   \n8691         1        0      0            0             0                 0   \n22096        1        0      0            0             0                 0   \n25231        1        0      0            0             0                 0   \n11534        1        0      0            0             0                 0   \n10028        1        0      0            0             0                 0   \n13475        1        0      0            0             0                 0   \n8021         0        0      0            0             0                 0   \n17819        1        0      0            1             0                 0   \n15486        1        0      0            1             0                 0   \n21245        1        0      0            1             1                 0   \n15968        1        0      0            1             0                 0   \n20589        1        0      0            0             0                 0   \n8856         1        0      0            0             0                 0   \n18118        0        0      0            0             0                 0   \n12331        1        0      0            0             0                 0   \n5666         0        0      0            0             0                 0   \n13718        1        0      0            1             1                 1   \n\n       search_and_rescue  security  military  child_alone      ...        \\\n15908                  0         0         0            0      ...         \n19495                  0         0         0            0      ...         \n24191                  0         0         0            0      ...         \n15961                  0         0         0            0      ...         \n6826                   0         0         0            0      ...         \n8512                   0         0         0            0      ...         \n20029                  0         0         0            0      ...         \n3987                   0         0         0            0      ...         \n22682                  0         0         0            0      ...         \n20914                  0         0         0            0      ...         \n18174                  0         0         0            0      ...         \n8641                   0         0         0            0      ...         \n25084                  0         0         0            0      ...         \n24725                  0         0         0            0      ...         \n12737                  0         0         0            0      ...         \n8494                   0         0         0            0      ...         \n7178                   0         0         0            0      ...         \n16531                  0         0         0            0      ...         \n21177                  0         0         0            0      ...         \n2988                   0         0         0            0      ...         \n22708                  0         0         0            0      ...         \n7475                   0         0         0            0      ...         \n23387                  0         0         0            0      ...         \n7662                   0         0         0            0      ...         \n5153                   0         0         0            0      ...         \n18317                  0         0         0            0      ...         \n7903                   0         0         0            0      ...         \n9787                   0         0         0            0      ...         \n24759                  0         0         1            0      ...         \n20024                  0         0         1            0      ...         \n...                  ...       ...       ...          ...      ...         \n14069                  0         0         0            0      ...         \n17713                  0         0         0            0      ...         \n25032                  0         0         0            0      ...         \n23506                  0         0         0            0      ...         \n21969                  0         0         0            0      ...         \n21551                  0         0         0            0      ...         \n12141                  0         0         0            0      ...         \n5271                   0         0         0            0      ...         \n18608                  0         0         0            0      ...         \n14780                  0         0         0            0      ...         \n7638                   0         0         0            0      ...         \n12650                  0         0         0            0      ...         \n4454                   0         0         0            0      ...         \n8691                   0         0         0            0      ...         \n22096                  0         0         0            0      ...         \n25231                  0         0         0            0      ...         \n11534                  0         0         0            0      ...         \n10028                  0         0         0            0      ...         \n13475                  0         0         0            0      ...         \n8021                   0         0         0            0      ...         \n17819                  0         1         0            0      ...         \n15486                  0         0         0            0      ...         \n21245                  0         0         0            0      ...         \n15968                  0         0         0            0      ...         \n20589                  0         0         0            0      ...         \n8856                   0         0         0            0      ...         \n18118                  0         0         0            0      ...         \n12331                  0         0         0            0      ...         \n5666                   0         0         0            0      ...         \n13718                  0         0         0            0      ...         \n\n       aid_centers  other_infrastructure  weather_related  floods  storm  \\\n15908            0                     0                0       0      0   \n19495            0                     0                0       0      0   \n24191            0                     0                0       0      0   \n15961            0                     0                1       0      1   \n6826             0                     0                0       0      0   \n8512             0                     0                0       0      0   \n20029            0                     1                1       0      0   \n3987             0                     0                0       0      0   \n22682            0                     0                0       0      0   \n20914            0                     0                1       1      0   \n18174            0                     0                0       0      0   \n8641             0                     0                0       0      0   \n25084            0                     0                0       0      0   \n24725            0                     0                1       1      0   \n12737            0                     0                1       0      1   \n8494             0                     0                0       0      0   \n7178             0                     0                0       0      0   \n16531            0                     0                0       0      0   \n21177            0                     0                0       0      0   \n2988             0                     0                0       0      0   \n22708            0                     0                0       0      0   \n7475             0                     0                0       0      0   \n23387            0                     0                1       0      0   \n7662             0                     0                0       0      0   \n5153             0                     0                1       0      0   \n18317            0                     0                0       0      0   \n7903             0                     0                0       0      0   \n9787             0                     0                0       0      0   \n24759            0                     0                0       0      0   \n20024            0                     0                0       0      0   \n...            ...                   ...              ...     ...    ...   \n14069            0                     0                0       0      0   \n17713            0                     0                1       0      1   \n25032            0                     0                0       0      0   \n23506            0                     0                0       0      0   \n21969            0                     0                0       0      0   \n21551            0                     0                0       0      0   \n12141            0                     0                0       0      0   \n5271             0                     0                1       0      0   \n18608            0                     0                0       0      0   \n14780            0                     0                0       0      0   \n7638             0                     0                0       0      0   \n12650            0                     0                1       0      1   \n4454             0                     0                0       0      0   \n8691             0                     0                0       0      0   \n22096            0                     1                1       1      0   \n25231            0                     0                0       0      0   \n11534            0                     0                1       0      0   \n10028            0                     0                1       0      0   \n13475            0                     1                1       1      0   \n8021             0                     0                0       0      0   \n17819            0                     0                0       0      0   \n15486            0                     1                0       0      0   \n21245            0                     0                1       1      1   \n15968            0                     0                1       1      1   \n20589            0                     1                0       0      0   \n8856             0                     0                0       0      0   \n18118            0                     0                0       0      0   \n12331            0                     0                1       0      1   \n5666             0                     0                0       0      0   \n13718            0                     0                1       0      1   \n\n       fire  earthquake  cold  other_weather  direct_report  \n15908     0           0     0              0              0  \n19495     0           0     0              0              0  \n24191     0           0     0              0              0  \n15961     0           0     0              0              0  \n6826      0           0     0              0              0  \n8512      0           0     0              0              0  \n20029     0           1     0              0              0  \n3987      0           0     0              0              0  \n22682     0           0     0              0              0  \n20914     0           0     0              0              1  \n18174     0           0     0              0              0  \n8641      0           0     0              0              0  \n25084     0           0     0              0              0  \n24725     0           0     0              1              0  \n12737     0           0     0              0              0  \n8494      0           0     0              0              0  \n7178      0           0     0              0              0  \n16531     0           0     0              0              0  \n21177     0           0     0              0              1  \n2988      0           0     0              0              1  \n22708     0           0     0              0              0  \n7475      0           0     0              0              0  \n23387     0           0     1              0              0  \n7662      0           0     0              0              0  \n5153      0           1     0              0              0  \n18317     0           0     0              0              0  \n7903      0           0     0              0              0  \n9787      0           0     0              0              0  \n24759     0           0     0              0              0  \n20024     0           0     0              0              0  \n...     ...         ...   ...            ...            ...  \n14069     0           0     0              0              0  \n17713     0           0     0              0              0  \n25032     0           0     0              0              0  \n23506     0           0     0              0              0  \n21969     0           0     0              0              1  \n21551     0           0     0              0              0  \n12141     0           0     0              0              0  \n5271      0           1     0              0              0  \n18608     0           0     0              0              0  \n14780     0           0     0              0              0  \n7638      0           0     0              0              1  \n12650     0           0     0              0              1  \n4454      0           0     0              0              1  \n8691      0           0     0              0              0  \n22096     0           1     0              0              0  \n25231     0           0     0              0              0  \n11534     0           1     0              0              1  \n10028     0           1     0              0              0  \n13475     0           0     0              0              1  \n8021      0           0     0              0              0  \n17819     0           0     0              0              1  \n15486     0           0     0              0              0  \n21245     0           0     0              0              0  \n15968     1           1     0              0              0  \n20589     0           0     0              0              0  \n8856      0           0     0              0              0  \n18118     0           0     0              0              0  \n12331     0           0     0              0              0  \n5666      0           0     0              0              0  \n13718     0           0     0              0              0  \n\n[6511 rows x 36 columns], array([[1, 0, 0, ..., 0, 0, 0],\n       [1, 0, 0, ..., 0, 0, 0],\n       [1, 0, 0, ..., 0, 0, 0],\n       ..., \n       [1, 0, 0, ..., 0, 0, 0],\n       [0, 0, 0, ..., 0, 0, 0],\n       [1, 0, 0, ..., 0, 0, 0]]))",
     "output_type": "error",
     "traceback": [
      "\u001b[0;31m---------------------------------------------------------------------------\u001b[0m",
      "\u001b[0;31mValueError\u001b[0m                                Traceback (most recent call last)",
      "\u001b[0;32m<ipython-input-11-3ac29982fdcc>\u001b[0m in \u001b[0;36m<module>\u001b[0;34m()\u001b[0m\n\u001b[1;32m      1\u001b[0m \u001b[0;34m\u001b[0m\u001b[0m\n\u001b[0;32m----> 2\u001b[0;31m \u001b[0mprint\u001b[0m\u001b[0;34m(\u001b[0m\u001b[0mclassification_report\u001b[0m\u001b[0;34m(\u001b[0m\u001b[0my_test\u001b[0m\u001b[0;34m,\u001b[0m \u001b[0my_pred\u001b[0m\u001b[0;34m,\u001b[0m \u001b[0mtarget_names\u001b[0m\u001b[0;34m=\u001b[0m\u001b[0mcategory_names\u001b[0m\u001b[0;34m)\u001b[0m\u001b[0;34m)\u001b[0m\u001b[0;34m\u001b[0m\u001b[0m\n\u001b[0m",
      "\u001b[0;32m/opt/conda/lib/python3.6/site-packages/sklearn/metrics/classification.py\u001b[0m in \u001b[0;36mclassification_report\u001b[0;34m(y_true, y_pred, labels, target_names, sample_weight, digits)\u001b[0m\n\u001b[1;32m   1419\u001b[0m \u001b[0;34m\u001b[0m\u001b[0m\n\u001b[1;32m   1420\u001b[0m     \u001b[0;32mif\u001b[0m \u001b[0mlabels\u001b[0m \u001b[0;32mis\u001b[0m \u001b[0;32mNone\u001b[0m\u001b[0;34m:\u001b[0m\u001b[0;34m\u001b[0m\u001b[0m\n\u001b[0;32m-> 1421\u001b[0;31m         \u001b[0mlabels\u001b[0m \u001b[0;34m=\u001b[0m \u001b[0munique_labels\u001b[0m\u001b[0;34m(\u001b[0m\u001b[0my_true\u001b[0m\u001b[0;34m,\u001b[0m \u001b[0my_pred\u001b[0m\u001b[0;34m)\u001b[0m\u001b[0;34m\u001b[0m\u001b[0m\n\u001b[0m\u001b[1;32m   1422\u001b[0m     \u001b[0;32melse\u001b[0m\u001b[0;34m:\u001b[0m\u001b[0;34m\u001b[0m\u001b[0m\n\u001b[1;32m   1423\u001b[0m         \u001b[0mlabels\u001b[0m \u001b[0;34m=\u001b[0m \u001b[0mnp\u001b[0m\u001b[0;34m.\u001b[0m\u001b[0masarray\u001b[0m\u001b[0;34m(\u001b[0m\u001b[0mlabels\u001b[0m\u001b[0;34m)\u001b[0m\u001b[0;34m\u001b[0m\u001b[0m\n",
      "\u001b[0;32m/opt/conda/lib/python3.6/site-packages/sklearn/utils/multiclass.py\u001b[0m in \u001b[0;36munique_labels\u001b[0;34m(*ys)\u001b[0m\n\u001b[1;32m     95\u001b[0m     \u001b[0m_unique_labels\u001b[0m \u001b[0;34m=\u001b[0m \u001b[0m_FN_UNIQUE_LABELS\u001b[0m\u001b[0;34m.\u001b[0m\u001b[0mget\u001b[0m\u001b[0;34m(\u001b[0m\u001b[0mlabel_type\u001b[0m\u001b[0;34m,\u001b[0m \u001b[0;32mNone\u001b[0m\u001b[0;34m)\u001b[0m\u001b[0;34m\u001b[0m\u001b[0m\n\u001b[1;32m     96\u001b[0m     \u001b[0;32mif\u001b[0m \u001b[0;32mnot\u001b[0m \u001b[0m_unique_labels\u001b[0m\u001b[0;34m:\u001b[0m\u001b[0;34m\u001b[0m\u001b[0m\n\u001b[0;32m---> 97\u001b[0;31m         \u001b[0;32mraise\u001b[0m \u001b[0mValueError\u001b[0m\u001b[0;34m(\u001b[0m\u001b[0;34m\"Unknown label type: %s\"\u001b[0m \u001b[0;34m%\u001b[0m \u001b[0mrepr\u001b[0m\u001b[0;34m(\u001b[0m\u001b[0mys\u001b[0m\u001b[0;34m)\u001b[0m\u001b[0;34m)\u001b[0m\u001b[0;34m\u001b[0m\u001b[0m\n\u001b[0m\u001b[1;32m     98\u001b[0m \u001b[0;34m\u001b[0m\u001b[0m\n\u001b[1;32m     99\u001b[0m     \u001b[0mys_labels\u001b[0m \u001b[0;34m=\u001b[0m \u001b[0mset\u001b[0m\u001b[0;34m(\u001b[0m\u001b[0mchain\u001b[0m\u001b[0;34m.\u001b[0m\u001b[0mfrom_iterable\u001b[0m\u001b[0;34m(\u001b[0m\u001b[0m_unique_labels\u001b[0m\u001b[0;34m(\u001b[0m\u001b[0my\u001b[0m\u001b[0;34m)\u001b[0m \u001b[0;32mfor\u001b[0m \u001b[0my\u001b[0m \u001b[0;32min\u001b[0m \u001b[0mys\u001b[0m\u001b[0;34m)\u001b[0m\u001b[0;34m)\u001b[0m\u001b[0;34m\u001b[0m\u001b[0m\n",
      "\u001b[0;31mValueError\u001b[0m: Unknown label type: (       related  request  offer  aid_related  medical_help  medical_products  \\\n15908        1        0      0            0             0                 0   \n19495        1        0      0            0             0                 0   \n24191        1        0      0            1             0                 0   \n15961        1        0      0            0             0                 0   \n6826         0        0      0            0             0                 0   \n8512         0        0      0            0             0                 0   \n20029        1        0      0            1             1                 0   \n3987         0        0      0            0             0                 0   \n22682        1        0      0            0             0                 0   \n20914        1        0      0            1             0                 0   \n18174        1        0      0            1             0                 0   \n8641         0        0      0            0             0                 0   \n25084        0        0      0            0             0                 0   \n24725        1        0      0            0             0                 0   \n12737        1        0      0            0             0                 0   \n8494         0        0      0            0             0                 0   \n7178         0        0      0            0             0                 0   \n16531        1        0      0            0             0                 0   \n21177        1        0      0            1             1                 0   \n2988         1        1      0            1             0                 0   \n22708        0        0      0            0             0                 0   \n7475         0        0      0            0             0                 0   \n23387        1        0      0            1             0                 0   \n7662         1        0      0            0             0                 0   \n5153         1        0      0            1             0                 0   \n18317        0        0      0            0             0                 0   \n7903         0        0      0            0             0                 0   \n9787         1        0      0            0             0                 0   \n24759        1        0      0            1             0                 0   \n20024        1        0      0            1             0                 0   \n...        ...      ...    ...          ...           ...               ...   \n14069        1        0      0            0             0                 0   \n17713        1        0      0            1             0                 0   \n25032        1        0      0            1             1                 0   \n23506        1        0      0            0             0                 0   \n21969        1        1      0            0             0                 0   \n21551        1        0      0            0             0                 0   \n12141        1        1      0            1             1                 0   \n5271         1        0      0            1             0                 0   \n18608        1        0      0            0             0                 0   \n14780        1        0      0            0             0                 0   \n7638         1        1      0            1             0                 0   \n12650        1        0      0            0             0                 0   \n4454         1        1      0            1             0                 0   \n8691         1        0      0            0             0                 0   \n22096        1        0      0            0             0                 0   \n25231        1        0      0            0             0                 0   \n11534        1        0      0            0             0                 0   \n10028        1        0      0            0             0                 0   \n13475        1        0      0            0             0                 0   \n8021         0        0      0            0             0                 0   \n17819        1        0      0            1             0                 0   \n15486        1        0      0            1             0                 0   \n21245        1        0      0            1             1                 0   \n15968        1        0      0            1             0                 0   \n20589        1        0      0            0             0                 0   \n8856         1        0      0            0             0                 0   \n18118        0        0      0            0             0                 0   \n12331        1        0      0            0             0                 0   \n5666         0        0      0            0             0                 0   \n13718        1        0      0            1             1                 1   \n\n       search_and_rescue  security  military  child_alone      ...        \\\n15908                  0         0         0            0      ...         \n19495                  0         0         0            0      ...         \n24191                  0         0         0            0      ...         \n15961                  0         0         0            0      ...         \n6826                   0         0         0            0      ...         \n8512                   0         0         0            0      ...         \n20029                  0         0         0            0      ...         \n3987                   0         0         0            0      ...         \n22682                  0         0         0            0      ...         \n20914                  0         0         0            0      ...         \n18174                  0         0         0            0      ...         \n8641                   0         0         0            0      ...         \n25084                  0         0         0            0      ...         \n24725                  0         0         0            0      ...         \n12737                  0         0         0            0      ...         \n8494                   0         0         0            0      ...         \n7178                   0         0         0            0      ...         \n16531                  0         0         0            0      ...         \n21177                  0         0         0            0      ...         \n2988                   0         0         0            0      ...         \n22708                  0         0         0            0      ...         \n7475                   0         0         0            0      ...         \n23387                  0         0         0            0      ...         \n7662                   0         0         0            0      ...         \n5153                   0         0         0            0      ...         \n18317                  0         0         0            0      ...         \n7903                   0         0         0            0      ...         \n9787                   0         0         0            0      ...         \n24759                  0         0         1            0      ...         \n20024                  0         0         1            0      ...         \n...                  ...       ...       ...          ...      ...         \n14069                  0         0         0            0      ...         \n17713                  0         0         0            0      ...         \n25032                  0         0         0            0      ...         \n23506                  0         0         0            0      ...         \n21969                  0         0         0            0      ...         \n21551                  0         0         0            0      ...         \n12141                  0         0         0            0      ...         \n5271                   0         0         0            0      ...         \n18608                  0         0         0            0      ...         \n14780                  0         0         0            0      ...         \n7638                   0         0         0            0      ...         \n12650                  0         0         0            0      ...         \n4454                   0         0         0            0      ...         \n8691                   0         0         0            0      ...         \n22096                  0         0         0            0      ...         \n25231                  0         0         0            0      ...         \n11534                  0         0         0            0      ...         \n10028                  0         0         0            0      ...         \n13475                  0         0         0            0      ...         \n8021                   0         0         0            0      ...         \n17819                  0         1         0            0      ...         \n15486                  0         0         0            0      ...         \n21245                  0         0         0            0      ...         \n15968                  0         0         0            0      ...         \n20589                  0         0         0            0      ...         \n8856                   0         0         0            0      ...         \n18118                  0         0         0            0      ...         \n12331                  0         0         0            0      ...         \n5666                   0         0         0            0      ...         \n13718                  0         0         0            0      ...         \n\n       aid_centers  other_infrastructure  weather_related  floods  storm  \\\n15908            0                     0                0       0      0   \n19495            0                     0                0       0      0   \n24191            0                     0                0       0      0   \n15961            0                     0                1       0      1   \n6826             0                     0                0       0      0   \n8512             0                     0                0       0      0   \n20029            0                     1                1       0      0   \n3987             0                     0                0       0      0   \n22682            0                     0                0       0      0   \n20914            0                     0                1       1      0   \n18174            0                     0                0       0      0   \n8641             0                     0                0       0      0   \n25084            0                     0                0       0      0   \n24725            0                     0                1       1      0   \n12737            0                     0                1       0      1   \n8494             0                     0                0       0      0   \n7178             0                     0                0       0      0   \n16531            0                     0                0       0      0   \n21177            0                     0                0       0      0   \n2988             0                     0                0       0      0   \n22708            0                     0                0       0      0   \n7475             0                     0                0       0      0   \n23387            0                     0                1       0      0   \n7662             0                     0                0       0      0   \n5153             0                     0                1       0      0   \n18317            0                     0                0       0      0   \n7903             0                     0                0       0      0   \n9787             0                     0                0       0      0   \n24759            0                     0                0       0      0   \n20024            0                     0                0       0      0   \n...            ...                   ...              ...     ...    ...   \n14069            0                     0                0       0      0   \n17713            0                     0                1       0      1   \n25032            0                     0                0       0      0   \n23506            0                     0                0       0      0   \n21969            0                     0                0       0      0   \n21551            0                     0                0       0      0   \n12141            0                     0                0       0      0   \n5271             0                     0                1       0      0   \n18608            0                     0                0       0      0   \n14780            0                     0                0       0      0   \n7638             0                     0                0       0      0   \n12650            0                     0                1       0      1   \n4454             0                     0                0       0      0   \n8691             0                     0                0       0      0   \n22096            0                     1                1       1      0   \n25231            0                     0                0       0      0   \n11534            0                     0                1       0      0   \n10028            0                     0                1       0      0   \n13475            0                     1                1       1      0   \n8021             0                     0                0       0      0   \n17819            0                     0                0       0      0   \n15486            0                     1                0       0      0   \n21245            0                     0                1       1      1   \n15968            0                     0                1       1      1   \n20589            0                     1                0       0      0   \n8856             0                     0                0       0      0   \n18118            0                     0                0       0      0   \n12331            0                     0                1       0      1   \n5666             0                     0                0       0      0   \n13718            0                     0                1       0      1   \n\n       fire  earthquake  cold  other_weather  direct_report  \n15908     0           0     0              0              0  \n19495     0           0     0              0              0  \n24191     0           0     0              0              0  \n15961     0           0     0              0              0  \n6826      0           0     0              0              0  \n8512      0           0     0              0              0  \n20029     0           1     0              0              0  \n3987      0           0     0              0              0  \n22682     0           0     0              0              0  \n20914     0           0     0              0              1  \n18174     0           0     0              0              0  \n8641      0           0     0              0              0  \n25084     0           0     0              0              0  \n24725     0           0     0              1              0  \n12737     0           0     0              0              0  \n8494      0           0     0              0              0  \n7178      0           0     0              0              0  \n16531     0           0     0              0              0  \n21177     0           0     0              0              1  \n2988      0           0     0              0              1  \n22708     0           0     0              0              0  \n7475      0           0     0              0              0  \n23387     0           0     1              0              0  \n7662      0           0     0              0              0  \n5153      0           1     0              0              0  \n18317     0           0     0              0              0  \n7903      0           0     0              0              0  \n9787      0           0     0              0              0  \n24759     0           0     0              0              0  \n20024     0           0     0              0              0  \n...     ...         ...   ...            ...            ...  \n14069     0           0     0              0              0  \n17713     0           0     0              0              0  \n25032     0           0     0              0              0  \n23506     0           0     0              0              0  \n21969     0           0     0              0              1  \n21551     0           0     0              0              0  \n12141     0           0     0              0              0  \n5271      0           1     0              0              0  \n18608     0           0     0              0              0  \n14780     0           0     0              0              0  \n7638      0           0     0              0              1  \n12650     0           0     0              0              1  \n4454      0           0     0              0              1  \n8691      0           0     0              0              0  \n22096     0           1     0              0              0  \n25231     0           0     0              0              0  \n11534     0           1     0              0              1  \n10028     0           1     0              0              0  \n13475     0           0     0              0              1  \n8021      0           0     0              0              0  \n17819     0           0     0              0              1  \n15486     0           0     0              0              0  \n21245     0           0     0              0              0  \n15968     1           1     0              0              0  \n20589     0           0     0              0              0  \n8856      0           0     0              0              0  \n18118     0           0     0              0              0  \n12331     0           0     0              0              0  \n5666      0           0     0              0              0  \n13718     0           0     0              0              0  \n\n[6511 rows x 36 columns], array([[1, 0, 0, ..., 0, 0, 0],\n       [1, 0, 0, ..., 0, 0, 0],\n       [1, 0, 0, ..., 0, 0, 0],\n       ..., \n       [1, 0, 0, ..., 0, 0, 0],\n       [0, 0, 0, ..., 0, 0, 0],\n       [1, 0, 0, ..., 0, 0, 0]]))"
     ]
    }
   ],
   "source": [
    "\n",
    "print(classification_report(y_test, y_pred, target_names=category_names))"
   ]
  },
  {
   "cell_type": "markdown",
   "metadata": {},
   "source": [
    "### 6. Improve your model\n",
    "Use grid search to find better parameters. "
   ]
  },
  {
   "cell_type": "code",
   "execution_count": null,
   "metadata": {},
   "outputs": [],
   "source": [
    "parameters = \n",
    "\n",
    "cv = "
   ]
  },
  {
   "cell_type": "markdown",
   "metadata": {},
   "source": [
    "### 7. Test your model\n",
    "Show the accuracy, precision, and recall of the tuned model.  \n",
    "\n",
    "Since this project focuses on code quality, process, and  pipelines, there is no minimum performance metric needed to pass. However, make sure to fine tune your models for accuracy, precision and recall to make your project stand out - especially for your portfolio!"
   ]
  },
  {
   "cell_type": "code",
   "execution_count": null,
   "metadata": {},
   "outputs": [],
   "source": []
  },
  {
   "cell_type": "markdown",
   "metadata": {},
   "source": [
    "### 8. Try improving your model further. Here are a few ideas:\n",
    "* try other machine learning algorithms\n",
    "* add other features besides the TF-IDF"
   ]
  },
  {
   "cell_type": "code",
   "execution_count": null,
   "metadata": {},
   "outputs": [],
   "source": []
  },
  {
   "cell_type": "markdown",
   "metadata": {},
   "source": [
    "### 9. Export your model as a pickle file"
   ]
  },
  {
   "cell_type": "code",
   "execution_count": null,
   "metadata": {},
   "outputs": [],
   "source": []
  },
  {
   "cell_type": "markdown",
   "metadata": {},
   "source": [
    "### 10. Use this notebook to complete `train.py`\n",
    "Use the template file attached in the Resources folder to write a script that runs the steps above to create a database and export a model based on a new dataset specified by the user."
   ]
  },
  {
   "cell_type": "code",
   "execution_count": null,
   "metadata": {},
   "outputs": [],
   "source": []
  }
 ],
 "metadata": {
  "kernelspec": {
   "display_name": "Python 3",
   "language": "python",
   "name": "python3"
  },
  "language_info": {
   "codemirror_mode": {
    "name": "ipython",
    "version": 3
   },
   "file_extension": ".py",
   "mimetype": "text/x-python",
   "name": "python",
   "nbconvert_exporter": "python",
   "pygments_lexer": "ipython3",
   "version": "3.6.3"
  }
 },
 "nbformat": 4,
 "nbformat_minor": 2
}
